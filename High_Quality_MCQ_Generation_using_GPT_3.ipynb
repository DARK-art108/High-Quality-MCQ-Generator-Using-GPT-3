{
  "nbformat": 4,
  "nbformat_minor": 0,
  "metadata": {
    "colab": {
      "name": "High Quality MCQ Generation using GPT-3.ipynb",
      "provenance": []
    },
    "kernelspec": {
      "name": "python3",
      "display_name": "Python 3"
    },
    "language_info": {
      "name": "python"
    },
    "accelerator": "GPU"
  },
  "cells": [
    {
      "cell_type": "code",
      "metadata": {
        "colab": {
          "base_uri": "https://localhost:8080/"
        },
        "id": "ppCniE-JeATy",
        "outputId": "362d08bd-17a1-4771-fbef-8f6055353262"
      },
      "source": [
        "!pip install --quiet openai"
      ],
      "execution_count": 1,
      "outputs": [
        {
          "output_type": "stream",
          "name": "stdout",
          "text": [
            "\u001b[K     |████████████████████████████████| 150 kB 4.0 MB/s \n",
            "\u001b[K     |████████████████████████████████| 11.3 MB 37.6 MB/s \n",
            "\u001b[K     |████████████████████████████████| 161 kB 52.9 MB/s \n",
            "\u001b[K     |████████████████████████████████| 242 kB 58.4 MB/s \n",
            "\u001b[?25h  Building wheel for openai (setup.py) ... \u001b[?25l\u001b[?25hdone\n",
            "\u001b[31mERROR: pip's dependency resolver does not currently take into account all the packages that are installed. This behaviour is the source of the following dependency conflicts.\n",
            "google-colab 1.0.0 requires pandas~=1.1.0; python_version >= \"3.0\", but you have pandas 1.3.4 which is incompatible.\u001b[0m\n"
          ]
        }
      ]
    },
    {
      "cell_type": "code",
      "metadata": {
        "colab": {
          "base_uri": "https://localhost:8080/"
        },
        "id": "BNc7CitEeVUR",
        "outputId": "3467fa41-b0af-4976-b961-3b7e67187302"
      },
      "source": [
        "import os\n",
        "import openai\n",
        "import getpass\n",
        "\n",
        "openai.api_key = getpass.getpass(prompt='Enter OpenAI API key:')\n"
      ],
      "execution_count": 2,
      "outputs": [
        {
          "name": "stdout",
          "output_type": "stream",
          "text": [
            "Enter OpenAI API key:··········\n"
          ]
        }
      ]
    },
    {
      "cell_type": "code",
      "metadata": {
        "id": "IOucV45oeVLE"
      },
      "source": [
        "import os\n",
        "import openai\n",
        "\n",
        "#openai.api_key = os.getenv(\"OPENAI_API_KEY\")\n",
        "\n",
        "response = openai.Completion.create(\n",
        "  engine=\"davinci-instruct-beta-v3\",\n",
        "  prompt=\"Generate the Multiple Choice Question from the given text\\n\\nText: \\\"Pluto (minor-planet designation: 134340 Pluto) is a dwarf planet in the Kuiper belt, a ring of bodies beyond the orbit of Neptune. It was the first and the largest Kuiper belt object to be discovered. After Pluto was discovered in 1930, it was declared to be the ninth planet from the Sun. Beginning in the 1990s, its status as a planet was questioned following the discovery of several objects of similar size in the Kuiper belt and the scattered disc, including the dwarf planet Eris. This led the International Astronomical Union (IAU) in 2006 to formally define the term \\\"planet\\\"—excluding Pluto and reclassifying it as a dwarf planet.\\\"\\n\\nQ: What is the first and the largest Kuiper belt object to be discovered?\\n\\nA) The Sun\\nB) Pluto\\nC) Eris\\nD) Neptune\",\n",
        "  temperature=0.64,\n",
        "  max_tokens=64,\n",
        "  top_p=1,\n",
        "  frequency_penalty=0,\n",
        "  presence_penalty=0\n",
        ")"
      ],
      "execution_count": 12,
      "outputs": []
    },
    {
      "cell_type": "code",
      "metadata": {
        "id": "iv5C9lJpgB8h"
      },
      "source": [
        ""
      ],
      "execution_count": null,
      "outputs": []
    }
  ]
}